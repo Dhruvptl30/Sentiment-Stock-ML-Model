{
 "cells": [
  {
   "cell_type": "code",
   "execution_count": 1,
   "id": "fecccd70",
   "metadata": {},
   "outputs": [
    {
     "name": "stdout",
     "output_type": "stream",
     "text": [
      "Requirement already satisfied: scikit-learn in d:\\anaconda\\lib\\site-packages (0.24.2)\n",
      "Requirement already satisfied: scipy>=0.19.1 in d:\\anaconda\\lib\\site-packages (from scikit-learn) (1.7.1)\n",
      "Requirement already satisfied: threadpoolctl>=2.0.0 in d:\\anaconda\\lib\\site-packages (from scikit-learn) (2.2.0)\n",
      "Requirement already satisfied: numpy>=1.13.3 in d:\\anaconda\\lib\\site-packages (from scikit-learn) (1.20.3)\n",
      "Requirement already satisfied: joblib>=0.11 in d:\\anaconda\\lib\\site-packages (from scikit-learn) (1.1.0)\n",
      "Note: you may need to restart the kernel to use updated packages.\n"
     ]
    }
   ],
   "source": [
    "%pip install scikit-learn"
   ]
  },
  {
   "cell_type": "code",
   "execution_count": 2,
   "id": "c0f0ca10",
   "metadata": {},
   "outputs": [],
   "source": [
    "import pandas as pd\n",
    "from sklearn.ensemble import RandomForestRegressor\n",
    "from sklearn.model_selection import train_test_split\n",
    "from sklearn.metrics import mean_squared_error\n",
    "from sklearn.preprocessing import LabelEncoder\n",
    "from nltk.sentiment.vader import SentimentIntensityAnalyzer\n",
    "from datetime import datetime"
   ]
  },
  {
   "cell_type": "code",
   "execution_count": 3,
   "id": "ef12aebe",
   "metadata": {},
   "outputs": [
    {
     "name": "stdout",
     "output_type": "stream",
     "text": [
      "         Date     Price      Open      High       Low    Vol. Change %\n",
      "0  28-06-2024  79032.73  79457.58  79671.58  78905.89  17.24M   -0.27%\n",
      "1  27-06-2024  79243.18  78758.67  79396.03  78467.34   9.60M    0.72%\n",
      "2  26-06-2024  78674.25  78094.02  78759.40  77945.94   8.56M    0.80%\n",
      "3  25-06-2024  78053.52  77529.19  78164.71  77459.60   8.83M    0.92%\n",
      "4  24-06-2024  77341.08  76885.65  77423.02  76745.94  13.92M    0.17%\n"
     ]
    }
   ],
   "source": [
    "# Load the stock price dataset\n",
    "stock_data= pd.read_csv(\"bse_data.csv\")\n",
    "\n",
    "print(stock_data.head())"
   ]
  },
  {
   "cell_type": "code",
   "execution_count": 4,
   "id": "bf8a9fa0",
   "metadata": {},
   "outputs": [
    {
     "name": "stdout",
     "output_type": "stream",
     "text": [
      "       Date     Price      Open      High       Low    Vol. Change %\n",
      "0  20240628  79032.73  79457.58  79671.58  78905.89  17.24M   -0.27%\n",
      "1  20240627  79243.18  78758.67  79396.03  78467.34   9.60M    0.72%\n",
      "2  20240626  78674.25  78094.02  78759.40  77945.94   8.56M    0.80%\n",
      "3  20240625  78053.52  77529.19  78164.71  77459.60   8.83M    0.92%\n",
      "4  20240624  77341.08  76885.65  77423.02  76745.94  13.92M    0.17%\n"
     ]
    }
   ],
   "source": [
    "# Convert the date format from DD-MM-YYYY to YYYYMMDD (numerical type format)\n",
    "def convert_date(date_str):\n",
    "    for fmt in [\"%d-%m-%Y\", \"%d/%m/%Y\"]:\n",
    "        try:\n",
    "            return datetime.strptime(date_str, fmt).strftime(\"%Y%m%d\")\n",
    "        except ValueError:\n",
    "            pass\n",
    "    return None\n",
    "\n",
    "stock_data['Date'] = stock_data['Date'].apply(convert_date)\n",
    "print(stock_data.head())"
   ]
  },
  {
   "cell_type": "code",
   "execution_count": 5,
   "id": "db2d986a",
   "metadata": {},
   "outputs": [
    {
     "name": "stdout",
     "output_type": "stream",
     "text": [
      "        publish_date        headline_category  \\\n",
      "0           20230630                 city.goa   \n",
      "1           20230630                    india   \n",
      "2           20230630              city.mumbai   \n",
      "3           20230630                    india   \n",
      "4           20230630               city.delhi   \n",
      "...              ...                      ...   \n",
      "817239      20190101              city.mumbai   \n",
      "817240      20190101          citizen.stories   \n",
      "817241      20190101            city.varanasi   \n",
      "817242      20190101             city.kolkata   \n",
      "817243      20190101  life-style.fashion.buzz   \n",
      "\n",
      "                                            headline_text  \n",
      "0       Technicians to hold trial run of mini-EVs in P...  \n",
      "1       Tamil Nadu women thanas are now kangaroo court...  \n",
      "2                Teen & youth drown in well at Nalasopara  \n",
      "3       Air fares drop; cheapest ticket from Delhi to ...  \n",
      "4       From reel to real: Minor among 2 held for robbery  \n",
      "...                                                   ...  \n",
      "817239  Sober new year! Maharashtra ups tax on IMFL by...  \n",
      "817240                        From one problem to another  \n",
      "817241           16 more held over Ghazipur cop's killing  \n",
      "817242  Cops take first step; ban waste burning till F...  \n",
      "817243    are you guilty of making these fashion faux pas  \n",
      "\n",
      "[817244 rows x 3 columns]\n"
     ]
    }
   ],
   "source": [
    "# Load the news channel dataset\n",
    "news_data = pd.read_csv(\"news_data.csv\")\n",
    "# print(news_data.head())\n",
    "\n",
    "# Filtering the necessary data only\n",
    "data_news = news_data[(news_data['publish_date'] >= 20190101)]\n",
    "data_news = data_news.sort_values(by='publish_date', ascending=False)\n",
    "data_news = data_news.reset_index(drop=True)\n",
    "\n",
    "print(data_news)"
   ]
  },
  {
   "cell_type": "code",
   "execution_count": 6,
   "id": "f5d42c72",
   "metadata": {},
   "outputs": [
    {
     "name": "stderr",
     "output_type": "stream",
     "text": [
      "[nltk_data] Downloading package vader_lexicon to\n",
      "[nltk_data]     C:\\Users\\wwwdh\\AppData\\Roaming\\nltk_data...\n",
      "[nltk_data]   Package vader_lexicon is already up-to-date!\n"
     ]
    },
    {
     "data": {
      "text/plain": [
       "True"
      ]
     },
     "execution_count": 6,
     "metadata": {},
     "output_type": "execute_result"
    }
   ],
   "source": [
    "import nltk\n",
    "nltk.download('vader_lexicon')"
   ]
  },
  {
   "cell_type": "code",
   "execution_count": 7,
   "id": "4326e192",
   "metadata": {},
   "outputs": [
    {
     "name": "stdout",
     "output_type": "stream",
     "text": [
      "   publish_date headline_category  \\\n",
      "0      20230630          city.goa   \n",
      "1      20230630             india   \n",
      "2      20230630       city.mumbai   \n",
      "3      20230630             india   \n",
      "4      20230630        city.delhi   \n",
      "\n",
      "                                       headline_text  sentiment  \n",
      "0  Technicians to hold trial run of mini-EVs in P...     0.0000  \n",
      "1  Tamil Nadu women thanas are now kangaroo court...     0.0000  \n",
      "2           Teen & youth drown in well at Nalasopara    -0.3818  \n",
      "3  Air fares drop; cheapest ticket from Delhi to ...    -0.2732  \n",
      "4  From reel to real: Minor among 2 held for robbery     0.0000  \n"
     ]
    }
   ],
   "source": [
    "sia = SentimentIntensityAnalyzer()\n",
    "data_news['sentiment'] = data_news['headline_text'].apply(lambda x: sia.polarity_scores(x)['compound'])\n",
    "print(data_news.head())"
   ]
  },
  {
   "cell_type": "code",
   "execution_count": 8,
   "id": "49c2212b",
   "metadata": {},
   "outputs": [
    {
     "name": "stdout",
     "output_type": "stream",
     "text": [
      "       Date     Category                                               News  \\\n",
      "0  20230630     city.goa  Technicians to hold trial run of mini-EVs in P...   \n",
      "1  20230630        india  Tamil Nadu women thanas are now kangaroo court...   \n",
      "2  20230630  city.mumbai           Teen & youth drown in well at Nalasopara   \n",
      "3  20230630        india  Air fares drop; cheapest ticket from Delhi to ...   \n",
      "4  20230630   city.delhi  From reel to real: Minor among 2 held for robbery   \n",
      "\n",
      "   CompoundSentiment  \n",
      "0             0.0000  \n",
      "1             0.0000  \n",
      "2            -0.3818  \n",
      "3            -0.2732  \n",
      "4             0.0000  \n"
     ]
    }
   ],
   "source": [
    "data_news = data_news.rename(columns={\n",
    "    'publish_date': 'Date',\n",
    "    'headline_category': 'Category',\n",
    "    'headline_text': 'News',\n",
    "    'sentiment': 'CompoundSentiment'\n",
    "})\n",
    "\n",
    "print(data_news.head())"
   ]
  },
  {
   "cell_type": "code",
   "execution_count": 9,
   "id": "4493dd48",
   "metadata": {},
   "outputs": [
    {
     "name": "stdout",
     "output_type": "stream",
     "text": [
      "Date         object\n",
      "Price       float64\n",
      "Open        float64\n",
      "High        float64\n",
      "Low         float64\n",
      "Vol.         object\n",
      "Change %     object\n",
      "dtype: object\n",
      "Date                  object\n",
      "Category              object\n",
      "News                  object\n",
      "CompoundSentiment    float64\n",
      "dtype: object\n"
     ]
    }
   ],
   "source": [
    "def convert_date(date_obj):\n",
    "    if isinstance(date_obj, str):\n",
    "        for fmt in [\"%d-%m-%Y\", \"%d/%m/%Y\", \"%Y-%m-%d\"]:\n",
    "            try:\n",
    "                return datetime.strptime(date_obj, fmt).strftime(\"%Y%m%d\")\n",
    "            except ValueError:\n",
    "                pass\n",
    "    elif isinstance(date_obj, pd.Timestamp):\n",
    "        return date_obj.strftime(\"%Y%m%d\")\n",
    "    return None\n",
    "\n",
    "data_news['Date'] = data_news['Date'].apply(convert_date)\n",
    "print(stock_data.dtypes)\n",
    "print(data_news.dtypes)"
   ]
  },
  {
   "cell_type": "code",
   "execution_count": 10,
   "id": "d33868c5",
   "metadata": {},
   "outputs": [
    {
     "name": "stdout",
     "output_type": "stream",
     "text": [
      "      Price      Open      High       Low    Vol. Change %  Sentiment\n",
      "0  79032.73  79457.58  79671.58  78905.89  17.24M   -0.27%     0.0000\n",
      "1  79243.18  78758.67  79396.03  78467.34   9.60M    0.72%     0.0000\n",
      "2  78674.25  78094.02  78759.40  77945.94   8.56M    0.80%    -0.3818\n",
      "3  78053.52  77529.19  78164.71  77459.60   8.83M    0.92%    -0.2732\n",
      "4  77341.08  76885.65  77423.02  76745.94  13.92M    0.17%     0.0000\n"
     ]
    }
   ],
   "source": [
    "# merged_data = pd.merge(stock_data, data_news, on='Date')\n",
    "stock_data['Sentiment'] = data_news['CompoundSentiment']\n",
    "stock_data.dropna(inplace=True)\n",
    "stock_data.drop(columns=['Date'], inplace=True)\n",
    "print(stock_data.head())"
   ]
  },
  {
   "cell_type": "code",
   "execution_count": 11,
   "id": "8e20dff4",
   "metadata": {},
   "outputs": [
    {
     "name": "stdout",
     "output_type": "stream",
     "text": [
      "Price        0\n",
      "Open         0\n",
      "High         0\n",
      "Low          0\n",
      "Vol.         0\n",
      "Change %     0\n",
      "Sentiment    0\n",
      "dtype: int64\n"
     ]
    }
   ],
   "source": [
    "print(stock_data.isnull().sum())"
   ]
  },
  {
   "cell_type": "code",
   "execution_count": 12,
   "id": "eb9cdb13",
   "metadata": {},
   "outputs": [
    {
     "name": "stdout",
     "output_type": "stream",
     "text": [
      "(1357, 7)\n"
     ]
    }
   ],
   "source": [
    "print(stock_data.shape)\n",
    "# merged_data = merged_data.fillna(method='ffill')"
   ]
  },
  {
   "cell_type": "code",
   "execution_count": 13,
   "id": "7f7539d4",
   "metadata": {},
   "outputs": [
    {
     "name": "stdout",
     "output_type": "stream",
     "text": [
      "      Price      Open      High       Low        Vol. Change %  Sentiment\n",
      "0  79032.73  79457.58  79671.58  78905.89  17240000.0   -0.27%     0.0000\n",
      "1  79243.18  78758.67  79396.03  78467.34   9600000.0    0.72%     0.0000\n",
      "2  78674.25  78094.02  78759.40  77945.94   8560000.0    0.80%    -0.3818\n",
      "3  78053.52  77529.19  78164.71  77459.60   8830000.0    0.92%    -0.2732\n",
      "4  77341.08  76885.65  77423.02  76745.94  13920000.0    0.17%     0.0000\n"
     ]
    }
   ],
   "source": [
    "def convert_volume(volume_str):\n",
    "    if 'M' in volume_str:\n",
    "        return float(volume_str.replace('M', '')) * 1000000\n",
    "    elif 'B' in volume_str:\n",
    "        return float(volume_str.replace('B', '')) * 1000000000\n",
    "    elif 'K' in volume_str:\n",
    "        return float(volume_str.replace('K', '')) * 1000\n",
    "    else:\n",
    "        return float(volume_str)\n",
    "\n",
    "# Apply the function to the 'Volume' column\n",
    "stock_data['Vol.'] = stock_data['Vol.'].apply(convert_volume)\n",
    "print(stock_data.head())"
   ]
  },
  {
   "cell_type": "code",
   "execution_count": 14,
   "id": "1172eacc",
   "metadata": {},
   "outputs": [
    {
     "name": "stdout",
     "output_type": "stream",
     "text": [
      "      Price      Open      High       Low        Vol.  Change %  Sentiment\n",
      "0  79032.73  79457.58  79671.58  78905.89  17240000.0   -0.0027     0.0000\n",
      "1  79243.18  78758.67  79396.03  78467.34   9600000.0    0.0072     0.0000\n",
      "2  78674.25  78094.02  78759.40  77945.94   8560000.0    0.0080    -0.3818\n",
      "3  78053.52  77529.19  78164.71  77459.60   8830000.0    0.0092    -0.2732\n",
      "4  77341.08  76885.65  77423.02  76745.94  13920000.0    0.0017     0.0000\n"
     ]
    }
   ],
   "source": [
    "def convert_change(change_str):\n",
    "    if '%' in change_str:\n",
    "        return float(change_str.replace('%', '')) / 100\n",
    "    else:\n",
    "        return float(change_str)\n",
    "\n",
    "# Apply the function to the 'Volume' column\n",
    "stock_data['Change %'] = stock_data['Change %'].apply(convert_change)\n",
    "print(stock_data.head())"
   ]
  },
  {
   "cell_type": "code",
   "execution_count": 15,
   "id": "f2905023",
   "metadata": {},
   "outputs": [
    {
     "name": "stdout",
     "output_type": "stream",
     "text": [
      "Mean Squared Error: 58570.36\n",
      "Predicted stock price: 27186.46\n"
     ]
    }
   ],
   "source": [
    "# Prepare data for Random Forest model\n",
    "# merged_data['Price'] = merged_data['Price'].astype(str).str.replace(',', '').astype(float)\n",
    "X = stock_data[['Open', 'High', 'Low', 'Vol.', 'Change %', 'Sentiment']]\n",
    "y = stock_data['Price']\n",
    "\n",
    "# Split data into training and testing sets\n",
    "X_train, X_test, y_train, y_test = train_test_split(X, y, test_size=0.2, random_state=42)\n",
    "\n",
    "# Create and train Random Forest model\n",
    "rf_model = RandomForestRegressor(n_estimators=100, random_state=42)\n",
    "rf_model.fit(X_train, y_train)\n",
    "\n",
    "# Make predictions on testing set\n",
    "y_pred = rf_model.predict(X_test)\n",
    "\n",
    "# Evaluate model performance\n",
    "mse = mean_squared_error(y_test, y_pred)\n",
    "print(f'Mean Squared Error: {mse:.2f}')\n",
    "\n",
    "# Use the trained model to make predictions on new data\n",
    "new_data = pd.DataFrame({'Open': [100], 'High': [120], 'Low': [90], 'Vol.': [1000], 'Change %': [2], 'sentiment': [0.5]})\n",
    "# new_data = pd.get_dummies(new_data, columns=['sentiment'])\n",
    "prediction = rf_model.predict(new_data)\n",
    "print(f'Predicted stock price: {prediction[0]:.2f}')"
   ]
  },
  {
   "cell_type": "code",
   "execution_count": 17,
   "id": "ffa73f5e",
   "metadata": {},
   "outputs": [],
   "source": [
    "import numpy as np"
   ]
  },
  {
   "cell_type": "code",
   "execution_count": 19,
   "id": "04891f54",
   "metadata": {},
   "outputs": [
    {
     "name": "stdout",
     "output_type": "stream",
     "text": [
      "Direction Accuracy: 0.99\n",
      "Sharpe Ratio: 0.00\n"
     ]
    }
   ],
   "source": [
    "# Calculate Direction Accuracy\n",
    "direction_accuracy = np.mean((y_test - y_test.shift(1)) * (y_pred - y_test.shift(1)) > 0)\n",
    "print(f'Direction Accuracy: {direction_accuracy:.2f}')\n",
    "\n",
    "# Calculate Sharpe Ratio\n",
    "y_test_series = pd.Series(y_test)\n",
    "y_pred_series = pd.Series(y_pred)\n",
    "returns = y_test_series.pct_change().dropna()\n",
    "predicted_returns = y_pred_series.pct_change().dropna()\n",
    "sharpe_ratio = (predicted_returns.mean() - returns.mean()) / predicted_returns.std()\n",
    "print(f'Sharpe Ratio: {sharpe_ratio:.2f}')"
   ]
  },
  {
   "cell_type": "code",
   "execution_count": 32,
   "id": "bb5879ca",
   "metadata": {},
   "outputs": [
    {
     "name": "stdout",
     "output_type": "stream",
     "text": [
      "Direction Accuracy: 99.26%\n",
      "Sharpe Ratio: 0.10\n"
     ]
    }
   ],
   "source": [
    "# Calculate Direction Accuracy\n",
    "def direction_accuracy(y_true, y_pred):\n",
    "  correct_direction = 0\n",
    "  for i in range(len(y_true)):\n",
    "    if (y_true[i] > y_true[i-1] and y_pred[i] > y_pred[i-1]) or \\\n",
    "       (y_true[i] < y_true[i-1] and y_pred[i] < y_pred[i-1]):\n",
    "      correct_direction += 1\n",
    "  return (correct_direction / len(y_true)) * 100\n",
    "\n",
    "# Calculate Daily Returns\n",
    "daily_returns = y_test.pct_change().dropna()\n",
    "\n",
    "# Calculate Risk-Free Rate (placeholder, replace with actual risk-free rate)\n",
    "risk_free_rate = 0.02  # Adjust this value based on your assumption\n",
    "\n",
    "# Calculate Average Daily Return\n",
    "avg_daily_return = daily_returns.mean()\n",
    "\n",
    "# Calculate Daily Volatility (standard deviation of daily returns)\n",
    "daily_volatility = daily_returns.std()\n",
    "\n",
    "# Calculate Sharpe Ratio\n",
    "sharpe_ratio = (avg_daily_return - risk_free_rate) / daily_volatility\n",
    "\n",
    "direction_accuracy_score = direction_accuracy(y_test.values, y_pred)\n",
    "\n",
    "print(f'Direction Accuracy: {direction_accuracy_score:.2f}%')\n",
    "print(f'Sharpe Ratio: {sharpe_ratio:.2f}')"
   ]
  },
  {
   "cell_type": "code",
   "execution_count": 34,
   "id": "461820c9",
   "metadata": {},
   "outputs": [
    {
     "name": "stdout",
     "output_type": "stream",
     "text": [
      "Direction Accuracy: 99.26%\n",
      "Sharpe Ratio: 0.16\n"
     ]
    }
   ],
   "source": [
    "import numpy as np\n",
    "\n",
    "# Function to calculate Direction Accuracy\n",
    "def direction_accuracy(y_true, y_pred):\n",
    "    # Determine the direction of actual and predicted changes\n",
    "    actual_direction = np.sign(np.diff(y_true))\n",
    "    predicted_direction = np.sign(np.diff(y_pred))\n",
    "    \n",
    "    # Calculate the percentage of matching directions\n",
    "    accuracy = np.mean(actual_direction == predicted_direction)\n",
    "    return accuracy\n",
    "\n",
    "# Function to calculate Sharpe Ratio\n",
    "def sharpe_ratio(y_true, y_pred, risk_free_rate=0.0):\n",
    "    # Calculate daily returns from the true and predicted prices\n",
    "    actual_returns = np.diff(y_true) / y_true[:-1]\n",
    "    predicted_returns = np.diff(y_pred) / y_pred[:-1]\n",
    "    \n",
    "    # Calculate excess returns (subtracting risk-free rate)\n",
    "    excess_returns = actual_returns - risk_free_rate\n",
    "    \n",
    "    # Calculate Sharpe Ratio (mean of excess returns divided by standard deviation)\n",
    "    sharpe = np.mean(excess_returns) / np.std(excess_returns)\n",
    "    return sharpe\n",
    "\n",
    "# Calculate Direction Accuracy\n",
    "da = direction_accuracy(y_test.values, y_pred)\n",
    "print(f'Direction Accuracy: {da:.2%}')\n",
    "\n",
    "# Assuming a risk-free rate of 0% (adjust as needed)\n",
    "rf_rate = 0.0\n",
    "\n",
    "# Calculate Sharpe Ratio\n",
    "sr = sharpe_ratio(y_test.values, y_pred, risk_free_rate=rf_rate)\n",
    "print(f'Sharpe Ratio: {sr:.2f}')\n"
   ]
  },
  {
   "cell_type": "code",
   "execution_count": null,
   "id": "398685f4",
   "metadata": {},
   "outputs": [],
   "source": [
    "#############   Method 2 #############"
   ]
  },
  {
   "cell_type": "code",
   "execution_count": 20,
   "id": "4ced830d",
   "metadata": {},
   "outputs": [
    {
     "data": {
      "text/html": [
       "<div>\n",
       "<style scoped>\n",
       "    .dataframe tbody tr th:only-of-type {\n",
       "        vertical-align: middle;\n",
       "    }\n",
       "\n",
       "    .dataframe tbody tr th {\n",
       "        vertical-align: top;\n",
       "    }\n",
       "\n",
       "    .dataframe thead th {\n",
       "        text-align: right;\n",
       "    }\n",
       "</style>\n",
       "<table border=\"1\" class=\"dataframe\">\n",
       "  <thead>\n",
       "    <tr style=\"text-align: right;\">\n",
       "      <th></th>\n",
       "      <th>Date</th>\n",
       "      <th>Price</th>\n",
       "      <th>Open</th>\n",
       "      <th>High</th>\n",
       "      <th>Low</th>\n",
       "      <th>Vol.</th>\n",
       "      <th>Change %</th>\n",
       "    </tr>\n",
       "  </thead>\n",
       "  <tbody>\n",
       "    <tr>\n",
       "      <th>0</th>\n",
       "      <td>20240628</td>\n",
       "      <td>79032.73</td>\n",
       "      <td>79457.58</td>\n",
       "      <td>79671.58</td>\n",
       "      <td>78905.89</td>\n",
       "      <td>17240000.0</td>\n",
       "      <td>-0.0027</td>\n",
       "    </tr>\n",
       "    <tr>\n",
       "      <th>1</th>\n",
       "      <td>20240627</td>\n",
       "      <td>79243.18</td>\n",
       "      <td>78758.67</td>\n",
       "      <td>79396.03</td>\n",
       "      <td>78467.34</td>\n",
       "      <td>9600000.0</td>\n",
       "      <td>0.0072</td>\n",
       "    </tr>\n",
       "    <tr>\n",
       "      <th>2</th>\n",
       "      <td>20240626</td>\n",
       "      <td>78674.25</td>\n",
       "      <td>78094.02</td>\n",
       "      <td>78759.40</td>\n",
       "      <td>77945.94</td>\n",
       "      <td>8560000.0</td>\n",
       "      <td>0.0080</td>\n",
       "    </tr>\n",
       "    <tr>\n",
       "      <th>3</th>\n",
       "      <td>20240625</td>\n",
       "      <td>78053.52</td>\n",
       "      <td>77529.19</td>\n",
       "      <td>78164.71</td>\n",
       "      <td>77459.60</td>\n",
       "      <td>8830000.0</td>\n",
       "      <td>0.0092</td>\n",
       "    </tr>\n",
       "    <tr>\n",
       "      <th>4</th>\n",
       "      <td>20240624</td>\n",
       "      <td>77341.08</td>\n",
       "      <td>76885.65</td>\n",
       "      <td>77423.02</td>\n",
       "      <td>76745.94</td>\n",
       "      <td>13920000.0</td>\n",
       "      <td>0.0017</td>\n",
       "    </tr>\n",
       "  </tbody>\n",
       "</table>\n",
       "</div>"
      ],
      "text/plain": [
       "       Date     Price      Open      High       Low        Vol.  Change %\n",
       "0  20240628  79032.73  79457.58  79671.58  78905.89  17240000.0   -0.0027\n",
       "1  20240627  79243.18  78758.67  79396.03  78467.34   9600000.0    0.0072\n",
       "2  20240626  78674.25  78094.02  78759.40  77945.94   8560000.0    0.0080\n",
       "3  20240625  78053.52  77529.19  78164.71  77459.60   8830000.0    0.0092\n",
       "4  20240624  77341.08  76885.65  77423.02  76745.94  13920000.0    0.0017"
      ]
     },
     "execution_count": 20,
     "metadata": {},
     "output_type": "execute_result"
    }
   ],
   "source": [
    "data_stock = pd.read_csv(\"bse_data.csv\")\n",
    "\n",
    "def date_convert(date_str):\n",
    "    for fmt in [\"%d-%m-%Y\", \"%d/%m/%Y\"]:\n",
    "        try:\n",
    "            return datetime.strptime(date_str, fmt).strftime(\"%Y%m%d\")\n",
    "        except ValueError:\n",
    "            pass\n",
    "    return None\n",
    "\n",
    "def volume_convert(volume):\n",
    "    if 'M' in volume:\n",
    "        return float(volume.replace('M', '')) * 1000000\n",
    "    elif 'B' in volume:\n",
    "        return float(volume.replace('B', '')) * 1000000000\n",
    "    elif 'K' in volume:\n",
    "        return float(volume.replace('K', '')) * 1000\n",
    "    else:\n",
    "        return float(volume)\n",
    "\n",
    "def change_convert(change):\n",
    "    if '%' in change:\n",
    "        return float(change.replace('%', '')) / 100\n",
    "    else:\n",
    "        return float(change)\n",
    "\n",
    "data_stock['Date'] = data_stock['Date'].apply(date_convert)\n",
    "data_stock['Vol.'] = data_stock['Vol.'].astype(str)\n",
    "data_stock['Vol.'] = data_stock['Vol.'].apply(volume_convert)\n",
    "data_stock['Change %'] = data_stock['Change %'].astype(str)\n",
    "data_stock['Change %'] = data_stock['Change %'].apply(change_convert)\n",
    "data_stock.head()"
   ]
  },
  {
   "cell_type": "code",
   "execution_count": 21,
   "id": "cd47fcef",
   "metadata": {},
   "outputs": [
    {
     "data": {
      "text/html": [
       "<div>\n",
       "<style scoped>\n",
       "    .dataframe tbody tr th:only-of-type {\n",
       "        vertical-align: middle;\n",
       "    }\n",
       "\n",
       "    .dataframe tbody tr th {\n",
       "        vertical-align: top;\n",
       "    }\n",
       "\n",
       "    .dataframe thead th {\n",
       "        text-align: right;\n",
       "    }\n",
       "</style>\n",
       "<table border=\"1\" class=\"dataframe\">\n",
       "  <thead>\n",
       "    <tr style=\"text-align: right;\">\n",
       "      <th></th>\n",
       "      <th>publish_date</th>\n",
       "      <th>headline_category</th>\n",
       "      <th>headline_text</th>\n",
       "    </tr>\n",
       "  </thead>\n",
       "  <tbody>\n",
       "    <tr>\n",
       "      <th>0</th>\n",
       "      <td>20230630</td>\n",
       "      <td>city.goa</td>\n",
       "      <td>Technicians to hold trial run of mini-EVs in P...</td>\n",
       "    </tr>\n",
       "    <tr>\n",
       "      <th>1</th>\n",
       "      <td>20230630</td>\n",
       "      <td>india</td>\n",
       "      <td>Tamil Nadu women thanas are now kangaroo court...</td>\n",
       "    </tr>\n",
       "    <tr>\n",
       "      <th>2</th>\n",
       "      <td>20230630</td>\n",
       "      <td>city.mumbai</td>\n",
       "      <td>Teen &amp; youth drown in well at Nalasopara</td>\n",
       "    </tr>\n",
       "    <tr>\n",
       "      <th>3</th>\n",
       "      <td>20230630</td>\n",
       "      <td>india</td>\n",
       "      <td>Air fares drop; cheapest ticket from Delhi to ...</td>\n",
       "    </tr>\n",
       "    <tr>\n",
       "      <th>4</th>\n",
       "      <td>20230630</td>\n",
       "      <td>city.delhi</td>\n",
       "      <td>From reel to real: Minor among 2 held for robbery</td>\n",
       "    </tr>\n",
       "  </tbody>\n",
       "</table>\n",
       "</div>"
      ],
      "text/plain": [
       "   publish_date headline_category  \\\n",
       "0      20230630          city.goa   \n",
       "1      20230630             india   \n",
       "2      20230630       city.mumbai   \n",
       "3      20230630             india   \n",
       "4      20230630        city.delhi   \n",
       "\n",
       "                                       headline_text  \n",
       "0  Technicians to hold trial run of mini-EVs in P...  \n",
       "1  Tamil Nadu women thanas are now kangaroo court...  \n",
       "2           Teen & youth drown in well at Nalasopara  \n",
       "3  Air fares drop; cheapest ticket from Delhi to ...  \n",
       "4  From reel to real: Minor among 2 held for robbery  "
      ]
     },
     "execution_count": 21,
     "metadata": {},
     "output_type": "execute_result"
    }
   ],
   "source": [
    "channel_data = pd.read_csv(\"news_data.csv\")\n",
    "\n",
    "data_channel = channel_data[(news_data['publish_date'] >= 20190101)]\n",
    "data_channel = data_channel.sort_values(by='publish_date', ascending=False)\n",
    "data_channel = data_channel.reset_index(drop=True)\n",
    "data_channel.head()"
   ]
  },
  {
   "cell_type": "code",
   "execution_count": 22,
   "id": "d849ff13",
   "metadata": {},
   "outputs": [
    {
     "name": "stderr",
     "output_type": "stream",
     "text": [
      "[nltk_data] Downloading package vader_lexicon to\n",
      "[nltk_data]     C:\\Users\\wwwdh\\AppData\\Roaming\\nltk_data...\n",
      "[nltk_data]   Package vader_lexicon is already up-to-date!\n"
     ]
    },
    {
     "data": {
      "text/plain": [
       "True"
      ]
     },
     "execution_count": 22,
     "metadata": {},
     "output_type": "execute_result"
    }
   ],
   "source": [
    "import nltk\n",
    "nltk.download('vader_lexicon')"
   ]
  },
  {
   "cell_type": "code",
   "execution_count": 23,
   "id": "066b3ed4",
   "metadata": {},
   "outputs": [
    {
     "data": {
      "text/html": [
       "<div>\n",
       "<style scoped>\n",
       "    .dataframe tbody tr th:only-of-type {\n",
       "        vertical-align: middle;\n",
       "    }\n",
       "\n",
       "    .dataframe tbody tr th {\n",
       "        vertical-align: top;\n",
       "    }\n",
       "\n",
       "    .dataframe thead th {\n",
       "        text-align: right;\n",
       "    }\n",
       "</style>\n",
       "<table border=\"1\" class=\"dataframe\">\n",
       "  <thead>\n",
       "    <tr style=\"text-align: right;\">\n",
       "      <th></th>\n",
       "      <th>publish_date</th>\n",
       "      <th>headline_text</th>\n",
       "    </tr>\n",
       "  </thead>\n",
       "  <tbody>\n",
       "    <tr>\n",
       "      <th>0</th>\n",
       "      <td>20230630</td>\n",
       "      <td>Technicians to hold trial run of mini-EVs in P...</td>\n",
       "    </tr>\n",
       "    <tr>\n",
       "      <th>1</th>\n",
       "      <td>20230630</td>\n",
       "      <td>Tamil Nadu women thanas are now kangaroo court...</td>\n",
       "    </tr>\n",
       "    <tr>\n",
       "      <th>2</th>\n",
       "      <td>20230630</td>\n",
       "      <td>Teen &amp; youth drown in well at Nalasopara</td>\n",
       "    </tr>\n",
       "    <tr>\n",
       "      <th>3</th>\n",
       "      <td>20230630</td>\n",
       "      <td>Air fares drop; cheapest ticket from Delhi to ...</td>\n",
       "    </tr>\n",
       "    <tr>\n",
       "      <th>4</th>\n",
       "      <td>20230630</td>\n",
       "      <td>From reel to real: Minor among 2 held for robbery</td>\n",
       "    </tr>\n",
       "  </tbody>\n",
       "</table>\n",
       "</div>"
      ],
      "text/plain": [
       "   publish_date                                      headline_text\n",
       "0      20230630  Technicians to hold trial run of mini-EVs in P...\n",
       "1      20230630  Tamil Nadu women thanas are now kangaroo court...\n",
       "2      20230630           Teen & youth drown in well at Nalasopara\n",
       "3      20230630  Air fares drop; cheapest ticket from Delhi to ...\n",
       "4      20230630  From reel to real: Minor among 2 held for robbery"
      ]
     },
     "execution_count": 23,
     "metadata": {},
     "output_type": "execute_result"
    }
   ],
   "source": [
    "# data_channel.drop(0, inplace=True)\n",
    "data_channel.drop('headline_category', axis = 1, inplace=True)\n",
    "data_channel.head()"
   ]
  },
  {
   "cell_type": "code",
   "execution_count": 24,
   "id": "0a365d41",
   "metadata": {},
   "outputs": [
    {
     "data": {
      "text/html": [
       "<div>\n",
       "<style scoped>\n",
       "    .dataframe tbody tr th:only-of-type {\n",
       "        vertical-align: middle;\n",
       "    }\n",
       "\n",
       "    .dataframe tbody tr th {\n",
       "        vertical-align: top;\n",
       "    }\n",
       "\n",
       "    .dataframe thead th {\n",
       "        text-align: right;\n",
       "    }\n",
       "</style>\n",
       "<table border=\"1\" class=\"dataframe\">\n",
       "  <thead>\n",
       "    <tr style=\"text-align: right;\">\n",
       "      <th></th>\n",
       "      <th>publish_date</th>\n",
       "      <th>headline_text</th>\n",
       "    </tr>\n",
       "  </thead>\n",
       "  <tbody>\n",
       "    <tr>\n",
       "      <th>0</th>\n",
       "      <td>20230630</td>\n",
       "      <td>Technicians to hold trial run of mini-EVs in P...</td>\n",
       "    </tr>\n",
       "    <tr>\n",
       "      <th>1</th>\n",
       "      <td>20230629</td>\n",
       "      <td>Morning biz takes a hit amid downpour Economy ...</td>\n",
       "    </tr>\n",
       "    <tr>\n",
       "      <th>2</th>\n",
       "      <td>20230628</td>\n",
       "      <td>Come clean on graft charge: Congress to Vijaya...</td>\n",
       "    </tr>\n",
       "    <tr>\n",
       "      <th>3</th>\n",
       "      <td>20230627</td>\n",
       "      <td>HC asks Centre to find ways to bring sisters t...</td>\n",
       "    </tr>\n",
       "    <tr>\n",
       "      <th>4</th>\n",
       "      <td>20230626</td>\n",
       "      <td>airline travel co told to pay 50k for refund d...</td>\n",
       "    </tr>\n",
       "  </tbody>\n",
       "</table>\n",
       "</div>"
      ],
      "text/plain": [
       "   publish_date                                      headline_text\n",
       "0      20230630  Technicians to hold trial run of mini-EVs in P...\n",
       "1      20230629  Morning biz takes a hit amid downpour Economy ...\n",
       "2      20230628  Come clean on graft charge: Congress to Vijaya...\n",
       "3      20230627  HC asks Centre to find ways to bring sisters t...\n",
       "4      20230626  airline travel co told to pay 50k for refund d..."
      ]
     },
     "execution_count": 24,
     "metadata": {},
     "output_type": "execute_result"
    }
   ],
   "source": [
    "data_channel['headline_text'] = data_channel.groupby(['publish_date']).transform(lambda x : ' '.join(x)) \n",
    "data_channel = data_channel.drop_duplicates() \n",
    "data_channel.reset_index(inplace = True, drop = True)\n",
    "data_channel.head()"
   ]
  },
  {
   "cell_type": "code",
   "execution_count": 25,
   "id": "bc443921",
   "metadata": {},
   "outputs": [
    {
     "name": "stdout",
     "output_type": "stream",
     "text": [
      "Requirement already satisfied: textblob in d:\\anaconda\\lib\\site-packages (0.18.0.post0)Note: you may need to restart the kernel to use updated packages.\n",
      "\n",
      "Requirement already satisfied: nltk>=3.8 in d:\\anaconda\\lib\\site-packages (from textblob) (3.8.1)\n",
      "Requirement already satisfied: regex>=2021.8.3 in d:\\anaconda\\lib\\site-packages (from nltk>=3.8->textblob) (2021.8.3)\n",
      "Requirement already satisfied: joblib in d:\\anaconda\\lib\\site-packages (from nltk>=3.8->textblob) (1.1.0)\n",
      "Requirement already satisfied: tqdm in d:\\anaconda\\lib\\site-packages (from nltk>=3.8->textblob) (4.62.3)\n",
      "Requirement already satisfied: click in d:\\anaconda\\lib\\site-packages (from nltk>=3.8->textblob) (8.0.3)\n",
      "Requirement already satisfied: colorama in d:\\anaconda\\lib\\site-packages (from click->nltk>=3.8->textblob) (0.4.4)\n"
     ]
    }
   ],
   "source": [
    "%pip install textblob\n",
    "from textblob import TextBlob\n",
    "\n",
    "def getSubjectivity(text):\n",
    "  return TextBlob(text).sentiment.subjectivity\n",
    "\n",
    "def getPolarity(text):\n",
    "  return  TextBlob(text).sentiment.polarity"
   ]
  },
  {
   "cell_type": "code",
   "execution_count": 26,
   "id": "ef891d47",
   "metadata": {},
   "outputs": [
    {
     "data": {
      "text/html": [
       "<div>\n",
       "<style scoped>\n",
       "    .dataframe tbody tr th:only-of-type {\n",
       "        vertical-align: middle;\n",
       "    }\n",
       "\n",
       "    .dataframe tbody tr th {\n",
       "        vertical-align: top;\n",
       "    }\n",
       "\n",
       "    .dataframe thead th {\n",
       "        text-align: right;\n",
       "    }\n",
       "</style>\n",
       "<table border=\"1\" class=\"dataframe\">\n",
       "  <thead>\n",
       "    <tr style=\"text-align: right;\">\n",
       "      <th></th>\n",
       "      <th>publish_date</th>\n",
       "      <th>headline_text</th>\n",
       "      <th>Subjectivity</th>\n",
       "      <th>Polarity</th>\n",
       "    </tr>\n",
       "  </thead>\n",
       "  <tbody>\n",
       "    <tr>\n",
       "      <th>0</th>\n",
       "      <td>20230630</td>\n",
       "      <td>Technicians to hold trial run of mini-EVs in P...</td>\n",
       "      <td>0.343855</td>\n",
       "      <td>0.030601</td>\n",
       "    </tr>\n",
       "    <tr>\n",
       "      <th>1</th>\n",
       "      <td>20230629</td>\n",
       "      <td>Morning biz takes a hit amid downpour Economy ...</td>\n",
       "      <td>0.388498</td>\n",
       "      <td>0.038298</td>\n",
       "    </tr>\n",
       "    <tr>\n",
       "      <th>2</th>\n",
       "      <td>20230628</td>\n",
       "      <td>Come clean on graft charge: Congress to Vijaya...</td>\n",
       "      <td>0.364270</td>\n",
       "      <td>0.032572</td>\n",
       "    </tr>\n",
       "    <tr>\n",
       "      <th>3</th>\n",
       "      <td>20230627</td>\n",
       "      <td>HC asks Centre to find ways to bring sisters t...</td>\n",
       "      <td>0.323888</td>\n",
       "      <td>0.039497</td>\n",
       "    </tr>\n",
       "    <tr>\n",
       "      <th>4</th>\n",
       "      <td>20230626</td>\n",
       "      <td>airline travel co told to pay 50k for refund d...</td>\n",
       "      <td>0.380842</td>\n",
       "      <td>0.019580</td>\n",
       "    </tr>\n",
       "  </tbody>\n",
       "</table>\n",
       "</div>"
      ],
      "text/plain": [
       "   publish_date                                      headline_text  \\\n",
       "0      20230630  Technicians to hold trial run of mini-EVs in P...   \n",
       "1      20230629  Morning biz takes a hit amid downpour Economy ...   \n",
       "2      20230628  Come clean on graft charge: Congress to Vijaya...   \n",
       "3      20230627  HC asks Centre to find ways to bring sisters t...   \n",
       "4      20230626  airline travel co told to pay 50k for refund d...   \n",
       "\n",
       "   Subjectivity  Polarity  \n",
       "0      0.343855  0.030601  \n",
       "1      0.388498  0.038298  \n",
       "2      0.364270  0.032572  \n",
       "3      0.323888  0.039497  \n",
       "4      0.380842  0.019580  "
      ]
     },
     "execution_count": 26,
     "metadata": {},
     "output_type": "execute_result"
    }
   ],
   "source": [
    "data_channel['Subjectivity'] = data_channel['headline_text'].apply(getSubjectivity)\n",
    "data_channel['Polarity'] = data_channel['headline_text'].apply(getPolarity)\n",
    "data_channel.head()"
   ]
  },
  {
   "cell_type": "code",
   "execution_count": 27,
   "id": "b85ac7ee",
   "metadata": {},
   "outputs": [
    {
     "data": {
      "text/html": [
       "<div>\n",
       "<style scoped>\n",
       "    .dataframe tbody tr th:only-of-type {\n",
       "        vertical-align: middle;\n",
       "    }\n",
       "\n",
       "    .dataframe tbody tr th {\n",
       "        vertical-align: top;\n",
       "    }\n",
       "\n",
       "    .dataframe thead th {\n",
       "        text-align: right;\n",
       "    }\n",
       "</style>\n",
       "<table border=\"1\" class=\"dataframe\">\n",
       "  <thead>\n",
       "    <tr style=\"text-align: right;\">\n",
       "      <th></th>\n",
       "      <th>publish_date</th>\n",
       "      <th>headline_text</th>\n",
       "      <th>Subjectivity</th>\n",
       "      <th>Polarity</th>\n",
       "      <th>Compound</th>\n",
       "      <th>Negative</th>\n",
       "      <th>Neutral</th>\n",
       "      <th>Positive</th>\n",
       "    </tr>\n",
       "  </thead>\n",
       "  <tbody>\n",
       "    <tr>\n",
       "      <th>0</th>\n",
       "      <td>20230630</td>\n",
       "      <td>Technicians to hold trial run of mini-EVs in P...</td>\n",
       "      <td>0.343855</td>\n",
       "      <td>0.030601</td>\n",
       "      <td>-0.9999</td>\n",
       "      <td>0.156</td>\n",
       "      <td>0.747</td>\n",
       "      <td>0.098</td>\n",
       "    </tr>\n",
       "    <tr>\n",
       "      <th>1</th>\n",
       "      <td>20230629</td>\n",
       "      <td>Morning biz takes a hit amid downpour Economy ...</td>\n",
       "      <td>0.388498</td>\n",
       "      <td>0.038298</td>\n",
       "      <td>-0.9999</td>\n",
       "      <td>0.152</td>\n",
       "      <td>0.765</td>\n",
       "      <td>0.083</td>\n",
       "    </tr>\n",
       "    <tr>\n",
       "      <th>2</th>\n",
       "      <td>20230628</td>\n",
       "      <td>Come clean on graft charge: Congress to Vijaya...</td>\n",
       "      <td>0.364270</td>\n",
       "      <td>0.032572</td>\n",
       "      <td>-0.9998</td>\n",
       "      <td>0.132</td>\n",
       "      <td>0.779</td>\n",
       "      <td>0.089</td>\n",
       "    </tr>\n",
       "    <tr>\n",
       "      <th>3</th>\n",
       "      <td>20230627</td>\n",
       "      <td>HC asks Centre to find ways to bring sisters t...</td>\n",
       "      <td>0.323888</td>\n",
       "      <td>0.039497</td>\n",
       "      <td>-1.0000</td>\n",
       "      <td>0.182</td>\n",
       "      <td>0.740</td>\n",
       "      <td>0.079</td>\n",
       "    </tr>\n",
       "    <tr>\n",
       "      <th>4</th>\n",
       "      <td>20230626</td>\n",
       "      <td>airline travel co told to pay 50k for refund d...</td>\n",
       "      <td>0.380842</td>\n",
       "      <td>0.019580</td>\n",
       "      <td>-0.9999</td>\n",
       "      <td>0.174</td>\n",
       "      <td>0.740</td>\n",
       "      <td>0.086</td>\n",
       "    </tr>\n",
       "  </tbody>\n",
       "</table>\n",
       "</div>"
      ],
      "text/plain": [
       "   publish_date                                      headline_text  \\\n",
       "0      20230630  Technicians to hold trial run of mini-EVs in P...   \n",
       "1      20230629  Morning biz takes a hit amid downpour Economy ...   \n",
       "2      20230628  Come clean on graft charge: Congress to Vijaya...   \n",
       "3      20230627  HC asks Centre to find ways to bring sisters t...   \n",
       "4      20230626  airline travel co told to pay 50k for refund d...   \n",
       "\n",
       "   Subjectivity  Polarity  Compound  Negative  Neutral  Positive  \n",
       "0      0.343855  0.030601   -0.9999     0.156    0.747     0.098  \n",
       "1      0.388498  0.038298   -0.9999     0.152    0.765     0.083  \n",
       "2      0.364270  0.032572   -0.9998     0.132    0.779     0.089  \n",
       "3      0.323888  0.039497   -1.0000     0.182    0.740     0.079  \n",
       "4      0.380842  0.019580   -0.9999     0.174    0.740     0.086  "
      ]
     },
     "execution_count": 27,
     "metadata": {},
     "output_type": "execute_result"
    }
   ],
   "source": [
    "SIA = SentimentIntensityAnalyzer()\n",
    "\n",
    "data_channel['Compound'] = [SIA.polarity_scores(v)['compound'] for v in data_channel['headline_text']]\n",
    "data_channel['Negative'] = [SIA.polarity_scores(v)['neg'] for v in data_channel['headline_text']]\n",
    "data_channel['Neutral'] = [SIA.polarity_scores(v)['neu'] for v in data_channel['headline_text']]\n",
    "data_channel['Positive'] = [SIA.polarity_scores(v)['pos'] for v in data_channel['headline_text']]\n",
    "data_channel.head()"
   ]
  },
  {
   "cell_type": "code",
   "execution_count": 28,
   "id": "a14b054c",
   "metadata": {},
   "outputs": [
    {
     "data": {
      "text/html": [
       "<div>\n",
       "<style scoped>\n",
       "    .dataframe tbody tr th:only-of-type {\n",
       "        vertical-align: middle;\n",
       "    }\n",
       "\n",
       "    .dataframe tbody tr th {\n",
       "        vertical-align: top;\n",
       "    }\n",
       "\n",
       "    .dataframe thead th {\n",
       "        text-align: right;\n",
       "    }\n",
       "</style>\n",
       "<table border=\"1\" class=\"dataframe\">\n",
       "  <thead>\n",
       "    <tr style=\"text-align: right;\">\n",
       "      <th></th>\n",
       "      <th>Price</th>\n",
       "      <th>Open</th>\n",
       "      <th>High</th>\n",
       "      <th>Low</th>\n",
       "      <th>Vol.</th>\n",
       "      <th>Change %</th>\n",
       "      <th>Subjectivity</th>\n",
       "      <th>Polarity</th>\n",
       "      <th>Compound</th>\n",
       "      <th>Negative</th>\n",
       "      <th>Neutral</th>\n",
       "      <th>Positive</th>\n",
       "    </tr>\n",
       "  </thead>\n",
       "  <tbody>\n",
       "    <tr>\n",
       "      <th>0</th>\n",
       "      <td>79032.73</td>\n",
       "      <td>79457.58</td>\n",
       "      <td>79671.58</td>\n",
       "      <td>78905.89</td>\n",
       "      <td>17240000.0</td>\n",
       "      <td>-0.0027</td>\n",
       "      <td>0.343855</td>\n",
       "      <td>0.030601</td>\n",
       "      <td>-0.9999</td>\n",
       "      <td>0.156</td>\n",
       "      <td>0.747</td>\n",
       "      <td>0.098</td>\n",
       "    </tr>\n",
       "    <tr>\n",
       "      <th>1</th>\n",
       "      <td>79243.18</td>\n",
       "      <td>78758.67</td>\n",
       "      <td>79396.03</td>\n",
       "      <td>78467.34</td>\n",
       "      <td>9600000.0</td>\n",
       "      <td>0.0072</td>\n",
       "      <td>0.388498</td>\n",
       "      <td>0.038298</td>\n",
       "      <td>-0.9999</td>\n",
       "      <td>0.152</td>\n",
       "      <td>0.765</td>\n",
       "      <td>0.083</td>\n",
       "    </tr>\n",
       "    <tr>\n",
       "      <th>2</th>\n",
       "      <td>78674.25</td>\n",
       "      <td>78094.02</td>\n",
       "      <td>78759.40</td>\n",
       "      <td>77945.94</td>\n",
       "      <td>8560000.0</td>\n",
       "      <td>0.0080</td>\n",
       "      <td>0.364270</td>\n",
       "      <td>0.032572</td>\n",
       "      <td>-0.9998</td>\n",
       "      <td>0.132</td>\n",
       "      <td>0.779</td>\n",
       "      <td>0.089</td>\n",
       "    </tr>\n",
       "    <tr>\n",
       "      <th>3</th>\n",
       "      <td>78053.52</td>\n",
       "      <td>77529.19</td>\n",
       "      <td>78164.71</td>\n",
       "      <td>77459.60</td>\n",
       "      <td>8830000.0</td>\n",
       "      <td>0.0092</td>\n",
       "      <td>0.323888</td>\n",
       "      <td>0.039497</td>\n",
       "      <td>-1.0000</td>\n",
       "      <td>0.182</td>\n",
       "      <td>0.740</td>\n",
       "      <td>0.079</td>\n",
       "    </tr>\n",
       "    <tr>\n",
       "      <th>4</th>\n",
       "      <td>77341.08</td>\n",
       "      <td>76885.65</td>\n",
       "      <td>77423.02</td>\n",
       "      <td>76745.94</td>\n",
       "      <td>13920000.0</td>\n",
       "      <td>0.0017</td>\n",
       "      <td>0.380842</td>\n",
       "      <td>0.019580</td>\n",
       "      <td>-0.9999</td>\n",
       "      <td>0.174</td>\n",
       "      <td>0.740</td>\n",
       "      <td>0.086</td>\n",
       "    </tr>\n",
       "  </tbody>\n",
       "</table>\n",
       "</div>"
      ],
      "text/plain": [
       "      Price      Open      High       Low        Vol.  Change %  Subjectivity  \\\n",
       "0  79032.73  79457.58  79671.58  78905.89  17240000.0   -0.0027      0.343855   \n",
       "1  79243.18  78758.67  79396.03  78467.34   9600000.0    0.0072      0.388498   \n",
       "2  78674.25  78094.02  78759.40  77945.94   8560000.0    0.0080      0.364270   \n",
       "3  78053.52  77529.19  78164.71  77459.60   8830000.0    0.0092      0.323888   \n",
       "4  77341.08  76885.65  77423.02  76745.94  13920000.0    0.0017      0.380842   \n",
       "\n",
       "   Polarity  Compound  Negative  Neutral  Positive  \n",
       "0  0.030601   -0.9999     0.156    0.747     0.098  \n",
       "1  0.038298   -0.9999     0.152    0.765     0.083  \n",
       "2  0.032572   -0.9998     0.132    0.779     0.089  \n",
       "3  0.039497   -1.0000     0.182    0.740     0.079  \n",
       "4  0.019580   -0.9999     0.174    0.740     0.086  "
      ]
     },
     "execution_count": 28,
     "metadata": {},
     "output_type": "execute_result"
    }
   ],
   "source": [
    "data_stock['Subjectivity'] = data_channel['Subjectivity']\n",
    "data_stock['Polarity'] = data_channel['Polarity']\n",
    "data_stock['Compound'] = data_channel['Compound']\n",
    "data_stock['Negative'] = data_channel['Negative']\n",
    "data_stock['Neutral'] = data_channel['Neutral']\n",
    "data_stock['Positive'] = data_channel['Positive']\n",
    "\n",
    "data_stock.dropna(inplace=True)\n",
    "data_stock.drop(columns=['Date'], inplace=True)\n",
    "data_stock.head()"
   ]
  },
  {
   "cell_type": "code",
   "execution_count": 29,
   "id": "9e8e7668",
   "metadata": {},
   "outputs": [
    {
     "name": "stdout",
     "output_type": "stream",
     "text": [
      "Mean Squared Error: 59534.93\n",
      "Predicted stock price: 27610.87\n"
     ]
    }
   ],
   "source": [
    "X1 = data_stock[['Open', 'High', 'Low', 'Vol.', 'Change %', 'Subjectivity', 'Polarity', 'Compound', 'Negative', 'Neutral', 'Positive']]\n",
    "y1 = data_stock['Price']\n",
    "\n",
    "# Split data into training and testing sets\n",
    "X1_train, X1_test, y1_train, y1_test = train_test_split(X1, y1, test_size=0.2, random_state=42)\n",
    "\n",
    "# Create and train Random Forest model\n",
    "rf_model = RandomForestRegressor(n_estimators=100, random_state=42)\n",
    "rf_model.fit(X1_train, y1_train)\n",
    "\n",
    "# Make predictions on testing set\n",
    "y1_pred = rf_model.predict(X1_test)\n",
    "\n",
    "# Evaluate model performance\n",
    "mse1 = mean_squared_error(y1_test, y1_pred)\n",
    "print(f'Mean Squared Error: {mse1:.2f}')\n",
    "\n",
    "# Use the trained model to make predictions on new data\n",
    "new_data_1 = pd.DataFrame({'Open': [100], 'High': [120], 'Low': [90], 'Vol.': [1000], 'Change %': [2], 'Subjectivity': [0.4], 'Polarity': [0.03], 'Compund': [0.06], 'Negative': [0.14], 'Neutral': [0.75], 'Positive': [0.06]})\n",
    "# new_data = pd.get_dummies(new_data, columns=['sentiment'])\n",
    "prediction1 = rf_model.predict(new_data_1)\n",
    "print(f'Predicted stock price: {prediction1[0]:.2f}')"
   ]
  },
  {
   "cell_type": "code",
   "execution_count": 31,
   "id": "93ffb892",
   "metadata": {},
   "outputs": [
    {
     "name": "stdout",
     "output_type": "stream",
     "text": [
      "Direction Accuracy: 0.98\n",
      "Sharpe Ratio: 0.00\n"
     ]
    }
   ],
   "source": [
    "# Calculate Direction Accuracy\n",
    "direction_accuracy = np.mean((y1_test - y1_test.shift(1)) * (y1_pred - y1_test.shift(1)) > 0)\n",
    "print(f'Direction Accuracy: {direction_accuracy:.2f}')\n",
    "\n",
    "# Calculate Sharpe Ratio\n",
    "y1_test_series = pd.Series(y1_test)\n",
    "y1_pred_series = pd.Series(y1_pred)\n",
    "returns = y1_test_series.pct_change().dropna()\n",
    "predicted_returns = y1_pred_series.pct_change().dropna()\n",
    "sharpe_ratio = (predicted_returns.mean() - returns.mean()) / predicted_returns.std()\n",
    "print(f'Sharpe Ratio: {sharpe_ratio:.2f}')"
   ]
  },
  {
   "cell_type": "code",
   "execution_count": 42,
   "id": "2a22b417",
   "metadata": {},
   "outputs": [
    {
     "name": "stdout",
     "output_type": "stream",
     "text": [
      "Direction Accuracy: 98.90%\n",
      "Sharpe Ratio: 0.16\n"
     ]
    }
   ],
   "source": [
    "# Calculate Direction Accuracy\n",
    "def direction_accuracy(y1_true, y1_pred):\n",
    "  correct_direction = 0\n",
    "  for i in range(len(y1_true)):\n",
    "    if (y1_true[i] > y1_true[i-1] and y1_pred[i] > y1_pred[i-1]) or \\\n",
    "       (y1_true[i] < y1_true[i-1] and y1_pred[i] < y1_pred[i-1]):\n",
    "      correct_direction += 1\n",
    "  return (correct_direction / len(y1_true)) * 100\n",
    "\n",
    "# Calculate Daily Returns\n",
    "daily_returns = y1_test.pct_change().dropna()\n",
    "\n",
    "# Calculate Risk-Free Rate (placeholder, replace with actual risk-free rate)\n",
    "risk_free_rate = 0.02  # Adjust this value based on your assumption\n",
    "\n",
    "# Calculate Average Daily Return\n",
    "avg_daily_return = daily_returns.mean()\n",
    "\n",
    "# Calculate Daily Volatility (standard deviation of daily returns)\n",
    "daily_volatility = daily_returns.std()\n",
    "\n",
    "# Calculate Sharpe Ratio\n",
    "sharpe_ratio = (avg_daily_return - risk_free_rate) / daily_volatility\n",
    "\n",
    "direction_accuracy_score = direction_accuracy(y1_test.values, y1_pred)\n",
    "\n",
    "print(f'Direction Accuracy: {direction_accuracy_score:.2f}%')\n",
    "print(f'Sharpe Ratio: {sharpe_ratio:.2f}')"
   ]
  },
  {
   "cell_type": "code",
   "execution_count": 40,
   "id": "29511368",
   "metadata": {},
   "outputs": [
    {
     "name": "stdout",
     "output_type": "stream",
     "text": [
      "Direction Accuracy: 98.89%\n",
      "Sharpe Ratio: 0.16\n"
     ]
    }
   ],
   "source": [
    "import numpy as np\n",
    "\n",
    "# Function to calculate Direction Accuracy\n",
    "def direction_accuracy(y1_true, y1_pred):\n",
    "    # Determine the direction of actual and predicted changes\n",
    "    actual_direction = np.sign(np.diff(y1_true))\n",
    "    predicted_direction = np.sign(np.diff(y1_pred))\n",
    "    \n",
    "    # Calculate the percentage of matching directions\n",
    "    accuracy = np.mean(actual_direction == predicted_direction)\n",
    "    return accuracy\n",
    "\n",
    "# Function to calculate Sharpe Ratio\n",
    "def sharpe_ratio(y1_true, y1_pred, risk_free_rate=0.0):\n",
    "    # Calculate daily returns from the true and predicted prices\n",
    "    actual_returns = np.diff(y1_true) / y1_true[:-1]\n",
    "    predicted_returns = np.diff(y1_pred) / y1_pred[:-1]\n",
    "    \n",
    "    # Calculate excess returns (subtracting risk-free rate)\n",
    "    excess_returns = actual_returns - risk_free_rate\n",
    "    \n",
    "    # Calculate Sharpe Ratio (mean of excess returns divided by standard deviation)\n",
    "    sharpe = np.mean(excess_returns) / np.std(excess_returns)\n",
    "    return sharpe\n",
    "\n",
    "# Calculate Direction Accuracy\n",
    "da = direction_accuracy(y1_test.values, y1_pred)\n",
    "print(f'Direction Accuracy: {da:.2%}')\n",
    "\n",
    "# Assuming a risk-free rate of 0% (adjust as needed)\n",
    "rf_rate = 0.0\n",
    "\n",
    "# Calculate Sharpe Ratio\n",
    "sr = sharpe_ratio(y1_test.values, y1_pred, risk_free_rate=rf_rate)\n",
    "print(f'Sharpe Ratio: {sr:.2f}')"
   ]
  },
  {
   "cell_type": "code",
   "execution_count": null,
   "id": "457feb23",
   "metadata": {},
   "outputs": [],
   "source": []
  }
 ],
 "metadata": {
  "kernelspec": {
   "display_name": "Python 3 (ipykernel)",
   "language": "python",
   "name": "python3"
  },
  "language_info": {
   "codemirror_mode": {
    "name": "ipython",
    "version": 3
   },
   "file_extension": ".py",
   "mimetype": "text/x-python",
   "name": "python",
   "nbconvert_exporter": "python",
   "pygments_lexer": "ipython3",
   "version": "3.9.7"
  }
 },
 "nbformat": 4,
 "nbformat_minor": 5
}
